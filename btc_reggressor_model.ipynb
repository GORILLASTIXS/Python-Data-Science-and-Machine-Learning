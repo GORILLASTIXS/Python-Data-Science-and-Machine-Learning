{
  "nbformat": 4,
  "nbformat_minor": 0,
  "metadata": {
    "colab": {
      "provenance": [],
      "authorship_tag": "ABX9TyOhFR+tlUJ80II9Zm5qMtJI",
      "include_colab_link": true
    },
    "kernelspec": {
      "name": "python3",
      "display_name": "Python 3"
    },
    "language_info": {
      "name": "python"
    }
  },
  "cells": [
    {
      "cell_type": "markdown",
      "metadata": {
        "id": "view-in-github",
        "colab_type": "text"
      },
      "source": [
        "<a href=\"https://colab.research.google.com/github/GORILLASTIXS/Python-Data-Science-and-Machine-Learning/blob/main/btc_reggressor_model.ipynb\" target=\"_parent\"><img src=\"https://colab.research.google.com/assets/colab-badge.svg\" alt=\"Open In Colab\"/></a>"
      ]
    },
    {
      "cell_type": "code",
      "source": [
        "import pandas as pd\n",
        "\n",
        "import numpy as np\n",
        "\n",
        "from sklearn.model_selection import train_test_split\n",
        "from sklearn.ensemble import RandomForestRegressor\n",
        "from sklearn.metrics import mean_squared_error\n",
        "\n"
      ],
      "metadata": {
        "id": "uxG7Rfw_n_Fa"
      },
      "execution_count": 12,
      "outputs": []
    },
    {
      "cell_type": "code",
      "source": [
        "#import data\n",
        "btc_df = pd.read_csv(\"/content/exported-btc.csv\")"
      ],
      "metadata": {
        "id": "AHgExt8cpfmq"
      },
      "execution_count": 3,
      "outputs": []
    },
    {
      "cell_type": "code",
      "source": [
        "#generate random seed\n",
        "np.random.seed(42)"
      ],
      "metadata": {
        "id": "XB79tesPeBzD"
      },
      "execution_count": 4,
      "outputs": []
    },
    {
      "cell_type": "code",
      "source": [
        "#get snapshot of our data\n",
        "btc_df.head()"
      ],
      "metadata": {
        "id": "o_42QEJWppT-"
      },
      "execution_count": null,
      "outputs": []
    },
    {
      "cell_type": "code",
      "source": [
        "x = btc_df.drop(\"close\", axis = 1) #>indepedent variables\n",
        "y = btc_df[\"close\"]  #>target variable"
      ],
      "metadata": {
        "id": "NXuta5lHpvrm"
      },
      "execution_count": 6,
      "outputs": []
    },
    {
      "cell_type": "code",
      "source": [
        "#split training data. use 20%\n",
        "x_train, x_test, y_train, y_test = train_test_split(x, y, test_size=.20)"
      ],
      "metadata": {
        "id": "FbfnDR_9p6u9"
      },
      "execution_count": 7,
      "outputs": []
    },
    {
      "cell_type": "code",
      "source": [
        "#instantiate model\n",
        "reggressor = RandomForestRegressor(n_estimators=100)"
      ],
      "metadata": {
        "id": "r2UJiVQ5qL-R"
      },
      "execution_count": 8,
      "outputs": []
    },
    {
      "cell_type": "code",
      "source": [
        "#train model\n",
        "reggressor.fit(x_train, y_train)"
      ],
      "metadata": {
        "colab": {
          "base_uri": "https://localhost:8080/"
        },
        "id": "n_2CT_OPqSLJ",
        "outputId": "5f4fcaf1-fc38-4f72-9fca-74cc196663b0"
      },
      "execution_count": 9,
      "outputs": [
        {
          "output_type": "execute_result",
          "data": {
            "text/plain": [
              "RandomForestRegressor()"
            ]
          },
          "metadata": {},
          "execution_count": 9
        }
      ]
    },
    {
      "cell_type": "code",
      "source": [
        "#score the model\n",
        "reggressor.score(x_test, y_test)"
      ],
      "metadata": {
        "colab": {
          "base_uri": "https://localhost:8080/"
        },
        "id": "VnWHjJ_EqbS7",
        "outputId": "294dafb4-00ca-40c0-8c4a-02b73b6642db"
      },
      "execution_count": 14,
      "outputs": [
        {
          "output_type": "execute_result",
          "data": {
            "text/plain": [
              "0.9998219402803454"
            ]
          },
          "metadata": {},
          "execution_count": 14
        }
      ]
    },
    {
      "cell_type": "code",
      "source": [
        "#make prediciton with model\n",
        "y_predict = reggressor.predict(x_test)"
      ],
      "metadata": {
        "id": "qRHvhzzmqjen"
      },
      "execution_count": 15,
      "outputs": []
    },
    {
      "cell_type": "code",
      "source": [
        "#test the accuracy of predictions\n",
        "accuracy = mean_squared_error(y_true= y_test, y_pred= y_predict, squared=False)\n",
        "accuracy"
      ],
      "metadata": {
        "id": "Gtby2DsiqrQR"
      },
      "execution_count": null,
      "outputs": []
    }
  ]
}