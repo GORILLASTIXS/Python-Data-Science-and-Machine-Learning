{
  "nbformat": 4,
  "nbformat_minor": 0,
  "metadata": {
    "colab": {
      "provenance": [],
      "authorship_tag": "ABX9TyNZJdT499fvV71RWvhz5yur",
      "include_colab_link": true
    },
    "kernelspec": {
      "name": "python3",
      "display_name": "Python 3"
    },
    "language_info": {
      "name": "python"
    }
  },
  "cells": [
    {
      "cell_type": "markdown",
      "metadata": {
        "id": "view-in-github",
        "colab_type": "text"
      },
      "source": [
        "<a href=\"https://colab.research.google.com/github/GORILLASTIXS/Python-Data-Science-and-Machine-Learning/blob/main/btc_reggressor_model.ipynb\" target=\"_parent\"><img src=\"https://colab.research.google.com/assets/colab-badge.svg\" alt=\"Open In Colab\"/></a>"
      ]
    },
    {
      "cell_type": "code",
      "source": [
        "import pandas as pd\n",
        "\n",
        "import numpy as np\n",
        "\n",
        "from sklearn.model_selection import train_test_split\n",
        "from sklearn.ensemble import RandomForestRegressor\n",
        "from sklearn.metrics import mean_squared_error\n",
        "from sklearn.svm import SVR\n",
        "\n"
      ],
      "metadata": {
        "id": "uxG7Rfw_n_Fa"
      },
      "execution_count": 40,
      "outputs": []
    },
    {
      "cell_type": "code",
      "source": [
        "#import data\n",
        "btc_df = pd.read_csv(\"/content/exported-btc.csv\")"
      ],
      "metadata": {
        "id": "AHgExt8cpfmq"
      },
      "execution_count": 18,
      "outputs": []
    },
    {
      "cell_type": "code",
      "source": [
        "#generate random seed\n",
        "np.random.seed(42)"
      ],
      "metadata": {
        "id": "XB79tesPeBzD"
      },
      "execution_count": 19,
      "outputs": []
    },
    {
      "cell_type": "code",
      "source": [
        "#get snapshot of our data\n",
        "btc_df.head()"
      ],
      "metadata": {
        "id": "o_42QEJWppT-"
      },
      "execution_count": null,
      "outputs": []
    },
    {
      "cell_type": "code",
      "source": [
        "x = btc_df.drop(\"close\", axis = 1) #>indepedent variables\n",
        "y = btc_df[\"close\"]  #>target variable"
      ],
      "metadata": {
        "id": "NXuta5lHpvrm"
      },
      "execution_count": 21,
      "outputs": []
    },
    {
      "cell_type": "code",
      "source": [
        "#split training data. use 20%\n",
        "x_train, x_test, y_train, y_test = train_test_split(x, y, test_size=.20)"
      ],
      "metadata": {
        "id": "FbfnDR_9p6u9"
      },
      "execution_count": 22,
      "outputs": []
    },
    {
      "cell_type": "code",
      "source": [
        "#instantiate model\n",
        "reggressor = RandomForestRegressor(n_estimators=100)"
      ],
      "metadata": {
        "id": "r2UJiVQ5qL-R"
      },
      "execution_count": 23,
      "outputs": []
    },
    {
      "cell_type": "code",
      "source": [
        "#train model\n",
        "reggressor.fit(x_train, y_train)"
      ],
      "metadata": {
        "colab": {
          "base_uri": "https://localhost:8080/"
        },
        "id": "n_2CT_OPqSLJ",
        "outputId": "ce5bcc2d-079f-4785-d29a-45f34a646500"
      },
      "execution_count": 24,
      "outputs": [
        {
          "output_type": "execute_result",
          "data": {
            "text/plain": [
              "RandomForestRegressor()"
            ]
          },
          "metadata": {},
          "execution_count": 24
        }
      ]
    },
    {
      "cell_type": "code",
      "source": [
        "#score the model\n",
        "reggressor.score(x_test, y_test)"
      ],
      "metadata": {
        "colab": {
          "base_uri": "https://localhost:8080/"
        },
        "id": "VnWHjJ_EqbS7",
        "outputId": "7ba13ce9-ba19-4dcf-93c5-f38a7df5009a"
      },
      "execution_count": 25,
      "outputs": [
        {
          "output_type": "execute_result",
          "data": {
            "text/plain": [
              "0.9998219402803454"
            ]
          },
          "metadata": {},
          "execution_count": 25
        }
      ]
    },
    {
      "cell_type": "code",
      "source": [
        "#make prediciton with model\n",
        "y_predict = reggressor.predict(x_test)"
      ],
      "metadata": {
        "id": "qRHvhzzmqjen"
      },
      "execution_count": 26,
      "outputs": []
    },
    {
      "cell_type": "code",
      "source": [
        "#test the accuracy of predictions\n",
        "accuracy = mean_squared_error(y_true= y_test, y_pred= y_predict, squared=False)\n",
        "accuracy"
      ],
      "metadata": {
        "colab": {
          "base_uri": "https://localhost:8080/"
        },
        "id": "Gtby2DsiqrQR",
        "outputId": "ee106d7d-3759-4010-9f52-2273852b3975"
      },
      "execution_count": 27,
      "outputs": [
        {
          "output_type": "execute_result",
          "data": {
            "text/plain": [
              "3.088183900241519"
            ]
          },
          "metadata": {},
          "execution_count": 27
        }
      ]
    },
    {
      "cell_type": "code",
      "source": [
        "#test with svc model\n",
        "svc_model = SVR(kernel=\"rbf\")"
      ],
      "metadata": {
        "id": "LqvvzPrVlOY_"
      },
      "execution_count": 44,
      "outputs": []
    },
    {
      "cell_type": "code",
      "source": [
        "svc_model.fit(x_train, y_train)"
      ],
      "metadata": {
        "colab": {
          "base_uri": "https://localhost:8080/"
        },
        "id": "m3SGCTw3l819",
        "outputId": "303e73fb-f1c2-46d7-854a-e4c375050b88"
      },
      "execution_count": 45,
      "outputs": [
        {
          "output_type": "execute_result",
          "data": {
            "text/plain": [
              "SVR()"
            ]
          },
          "metadata": {},
          "execution_count": 45
        }
      ]
    },
    {
      "cell_type": "code",
      "source": [
        "svc_model.score(x_test, y_test)"
      ],
      "metadata": {
        "colab": {
          "base_uri": "https://localhost:8080/"
        },
        "id": "2vxiuizLnOzJ",
        "outputId": "7ef2a734-ebed-45d5-db7b-aa13c46949bf"
      },
      "execution_count": 46,
      "outputs": [
        {
          "output_type": "execute_result",
          "data": {
            "text/plain": [
              "-0.02640458703526405"
            ]
          },
          "metadata": {},
          "execution_count": 46
        }
      ]
    },
    {
      "cell_type": "code",
      "source": [
        "y_pred2 = svc_model.predict(x_test)"
      ],
      "metadata": {
        "id": "Or4Yriwtn-O-"
      },
      "execution_count": 47,
      "outputs": []
    },
    {
      "cell_type": "code",
      "source": [
        "accuracy = mean_squared_error(y_test, y_pred2, squared=False)\n",
        "accuracy"
      ],
      "metadata": {
        "colab": {
          "base_uri": "https://localhost:8080/"
        },
        "id": "XjecbPKCoOZO",
        "outputId": "6212bbbc-5bec-4f23-8153-f0f12ed53df3"
      },
      "execution_count": 50,
      "outputs": [
        {
          "output_type": "execute_result",
          "data": {
            "text/plain": [
              "234.46585401060827"
            ]
          },
          "metadata": {},
          "execution_count": 50
        }
      ]
    }
  ]
}