{
  "nbformat": 4,
  "nbformat_minor": 0,
  "metadata": {
    "colab": {
      "provenance": [],
      "authorship_tag": "ABX9TyMu59nGhl3ekR0KHpgKsz3U",
      "include_colab_link": true
    },
    "kernelspec": {
      "name": "python3",
      "display_name": "Python 3"
    },
    "language_info": {
      "name": "python"
    }
  },
  "cells": [
    {
      "cell_type": "markdown",
      "metadata": {
        "id": "view-in-github",
        "colab_type": "text"
      },
      "source": [
        "<a href=\"https://colab.research.google.com/github/GORILLASTIXS/Python-Data-Science-and-Machine-Learning/blob/main/pandas.ipynb\" target=\"_parent\"><img src=\"https://colab.research.google.com/assets/colab-badge.svg\" alt=\"Open In Colab\"/></a>"
      ]
    },
    {
      "cell_type": "markdown",
      "source": [
        "**Analyzing and Manipulating data**\n",
        "\n"
      ],
      "metadata": {
        "id": "d4eeISCH1kN7"
      }
    },
    {
      "cell_type": "markdown",
      "source": [
        "Pandas library allow developers to analyze and manipulate data through data science and ML Python tools \n",
        "\n",
        "\n",
        "---\n",
        "\n",
        "\n",
        "\n",
        "\n"
      ],
      "metadata": {
        "id": "5tjOb8Oynpm3"
      }
    },
    {
      "cell_type": "code",
      "execution_count": null,
      "metadata": {
        "id": "iplzuFjoV4ns"
      },
      "outputs": [],
      "source": [
        "import pandas as pd\n"
      ]
    },
    {
      "cell_type": "markdown",
      "source": [
        "2 main pandas datatypes\n",
        "\n",
        "*   Series = 1 dimensional (1 colum)\n",
        "*   DataFrame = 2 dimensional(rows and colums)\n",
        "\n"
      ],
      "metadata": {
        "id": "RQ1IZTAGqqs5"
      }
    },
    {
      "cell_type": "code",
      "source": [
        "# Series\n",
        "first_name = pd.Series([\"Tom\", \"Bob\", \"Jim\", \"Piko\"])\n",
        "first_name"
      ],
      "metadata": {
        "id": "b-qI8_pnr4WP"
      },
      "execution_count": null,
      "outputs": []
    },
    {
      "cell_type": "code",
      "source": [
        "#Series\n",
        "last_name = pd.Series([\"Maker\", \"Blowfield\", \"Jonas\", \"Fisher\"])\n",
        "last_name"
      ],
      "metadata": {
        "id": "WZtBQ2bCvSxG"
      },
      "execution_count": null,
      "outputs": []
    },
    {
      "cell_type": "code",
      "source": [
        "#DataFrame\n",
        "#Create  keys \"First Name\"  and \"Last Name\" to match each series of data to their corresponding index\n",
        "name_data = pd.DataFrame({\"First Name\": first_name, \"Last Name\": last_name})\n",
        "name_data"
      ],
      "metadata": {
        "id": "RUqDAr9-wFaR"
      },
      "execution_count": null,
      "outputs": []
    },
    {
      "cell_type": "markdown",
      "source": [
        "**Instead of creating our own Dataframes, it is simpler to import data with csv files**\n"
      ],
      "metadata": {
        "id": "O6w7W_tQ2_Q5"
      }
    },
    {
      "cell_type": "markdown",
      "source": [
        "kaggle.com is a great resource to use for data collection and modeling. You can download csv files directly from projects that interest you."
      ],
      "metadata": {
        "id": "bQXT1RQ-EIRQ"
      }
    },
    {
      "cell_type": "code",
      "source": [],
      "metadata": {
        "id": "GFFX0Nuj3TtU"
      },
      "execution_count": null,
      "outputs": []
    }
  ]
}